{
 "cells": [
  {
   "cell_type": "markdown",
   "id": "6502a440",
   "metadata": {},
   "source": [
    "# 新增基本範例程式\n",
    "撰寫一個簡單的範例程式，展示框架的基本功能與使用方式。"
   ]
  },
  {
   "cell_type": "code",
   "execution_count": null,
   "id": "149a7e18",
   "metadata": {},
   "outputs": [],
   "source": [
    "# 基本範例程式：抓取網頁標題\n",
    "from playwright.sync_api import sync_playwright\n",
    "\n",
    "def fetch_page_title(url: str) -> str:\n",
    "    with sync_playwright() as p:\n",
    "        browser = p.chromium.launch(headless=True)\n",
    "        page = browser.new_page()\n",
    "        page.goto(url)\n",
    "        title = page.title()\n",
    "        browser.close()\n",
    "        return title\n",
    "\n",
    "# 測試範例\n",
    "url = \"https://example.com\"\n",
    "print(f\"網頁標題：{fetch_page_title(url)}\")"
   ]
  },
  {
   "cell_type": "markdown",
   "id": "d4628f1c",
   "metadata": {},
   "source": [
    "# 展示進階功能：自定義配置\n",
    "撰寫範例程式，展示如何使用框架的自定義配置功能，例如設定參數或選項。"
   ]
  },
  {
   "cell_type": "code",
   "execution_count": null,
   "id": "b37ce3bd",
   "metadata": {},
   "outputs": [],
   "source": [
    "# 自定義配置範例：設定瀏覽器代理與超時\n",
    "from playwright.sync_api import sync_playwright\n",
    "\n",
    "def fetch_with_custom_config(url: str, proxy: str, timeout: int) -> str:\n",
    "    with sync_playwright() as p:\n",
    "        browser = p.chromium.launch(proxy={\"server\": proxy}, headless=True)\n",
    "        page = browser.new_page()\n",
    "        page.set_default_navigation_timeout(timeout)\n",
    "        page.goto(url)\n",
    "        content = page.content()\n",
    "        browser.close()\n",
    "        return content\n",
    "\n",
    "# 測試範例\n",
    "url = \"https://example.com\"\n",
    "proxy = \"http://proxy.example:8080\"\n",
    "timeout = 10000  # 10 秒\n",
    "print(f\"網頁內容：{fetch_with_custom_config(url, proxy, timeout)[:100]}...\")"
   ]
  },
  {
   "cell_type": "markdown",
   "id": "b8ffe239",
   "metadata": {},
   "source": [
    "# 展示進階功能：異步處理\n",
    "撰寫範例程式，展示框架如何支援異步處理，並解釋相關的 API 使用方式。"
   ]
  },
  {
   "cell_type": "code",
   "execution_count": null,
   "id": "f68fe358",
   "metadata": {},
   "outputs": [],
   "source": [
    "# 異步處理範例：抓取多個網頁標題\n",
    "import asyncio\n",
    "from playwright.async_api import async_playwright\n",
    "\n",
    "async def fetch_titles(urls: list[str]) -> list[str]:\n",
    "    async with async_playwright() as p:\n",
    "        browser = await p.chromium.launch(headless=True)\n",
    "        page = await browser.new_page()\n",
    "        titles = []\n",
    "        for url in urls:\n",
    "            await page.goto(url)\n",
    "            titles.append(await page.title())\n",
    "        await browser.close()\n",
    "        return titles\n",
    "\n",
    "# 測試範例\n",
    "urls = [\"https://example.com\", \"https://example.org\", \"https://example.net\"]\n",
    "titles = asyncio.run(fetch_titles(urls))\n",
    "print(f\"網頁標題：{titles}\")"
   ]
  },
  {
   "cell_type": "markdown",
   "id": "64ad323a",
   "metadata": {},
   "source": [
    "# 展示進階功能：錯誤處理與日誌\n",
    "撰寫範例程式，展示框架的錯誤處理機制與日誌功能，並提供實際應用場景。"
   ]
  },
  {
   "cell_type": "code",
   "execution_count": null,
   "id": "bbdd9612",
   "metadata": {},
   "outputs": [],
   "source": [
    "# 錯誤處理與日誌範例\n",
    "import logging\n",
    "from playwright.sync_api import sync_playwright\n",
    "\n",
    "# 設定日誌\n",
    "logging.basicConfig(level=logging.INFO, format=\"%(asctime)s - %(levelname)s - %(message)s\")\n",
    "\n",
    "def fetch_with_error_handling(url: str) -> str:\n",
    "    try:\n",
    "        with sync_playwright() as p:\n",
    "            browser = p.chromium.launch(headless=True)\n",
    "            page = browser.new_page()\n",
    "            page.goto(url)\n",
    "            content = page.content()\n",
    "            browser.close()\n",
    "            return content\n",
    "    except Exception as e:\n",
    "        logging.error(f\"抓取失敗：{e}\")\n",
    "        return \"抓取失敗\"\n",
    "\n",
    "# 測試範例\n",
    "url = \"https://invalid-url.com\"\n",
    "print(f\"網頁內容：{fetch_with_error_handling(url)}\")"
   ]
  }
 ],
 "metadata": {
  "language_info": {
   "name": "python"
  }
 },
 "nbformat": 4,
 "nbformat_minor": 5
}
